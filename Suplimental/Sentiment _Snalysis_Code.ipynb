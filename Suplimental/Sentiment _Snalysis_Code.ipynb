{
 "cells": [
  {
   "attachments": {},
   "cell_type": "markdown",
   "metadata": {},
   "source": [
    "Importing data and pre-processing"
   ]
  },
  {
   "cell_type": "code",
   "execution_count": 1,
   "metadata": {},
   "outputs": [],
   "source": [
    "import pandas as pd"
   ]
  },
  {
   "cell_type": "code",
   "execution_count": 2,
   "metadata": {},
   "outputs": [],
   "source": [
    "df = pd.read_csv(\"vaccination_all_tweets.csv\")"
   ]
  },
  {
   "cell_type": "code",
   "execution_count": 3,
   "metadata": {},
   "outputs": [
    {
     "data": {
      "text/html": [
       "<div>\n",
       "<style scoped>\n",
       "    .dataframe tbody tr th:only-of-type {\n",
       "        vertical-align: middle;\n",
       "    }\n",
       "\n",
       "    .dataframe tbody tr th {\n",
       "        vertical-align: top;\n",
       "    }\n",
       "\n",
       "    .dataframe thead th {\n",
       "        text-align: right;\n",
       "    }\n",
       "</style>\n",
       "<table border=\"1\" class=\"dataframe\">\n",
       "  <thead>\n",
       "    <tr style=\"text-align: right;\">\n",
       "      <th></th>\n",
       "      <th>id</th>\n",
       "      <th>user_name</th>\n",
       "      <th>user_location</th>\n",
       "      <th>user_description</th>\n",
       "      <th>user_created</th>\n",
       "      <th>user_followers</th>\n",
       "      <th>user_friends</th>\n",
       "      <th>user_favourites</th>\n",
       "      <th>user_verified</th>\n",
       "      <th>date</th>\n",
       "      <th>text</th>\n",
       "      <th>hashtags</th>\n",
       "      <th>source</th>\n",
       "      <th>retweets</th>\n",
       "      <th>favorites</th>\n",
       "      <th>is_retweet</th>\n",
       "    </tr>\n",
       "  </thead>\n",
       "  <tbody>\n",
       "    <tr>\n",
       "      <th>0</th>\n",
       "      <td>1340539111971516416</td>\n",
       "      <td>Rachel Roh</td>\n",
       "      <td>La Crescenta-Montrose, CA</td>\n",
       "      <td>Aggregator of Asian American news; scanning di...</td>\n",
       "      <td>2009-04-08 17:52:46</td>\n",
       "      <td>405</td>\n",
       "      <td>1692</td>\n",
       "      <td>3247</td>\n",
       "      <td>False</td>\n",
       "      <td>2020-12-20 06:06:44</td>\n",
       "      <td>Same folks said daikon paste could treat a cyt...</td>\n",
       "      <td>['PfizerBioNTech']</td>\n",
       "      <td>Twitter for Android</td>\n",
       "      <td>0</td>\n",
       "      <td>0</td>\n",
       "      <td>False</td>\n",
       "    </tr>\n",
       "    <tr>\n",
       "      <th>1</th>\n",
       "      <td>1338158543359250433</td>\n",
       "      <td>Albert Fong</td>\n",
       "      <td>San Francisco, CA</td>\n",
       "      <td>Marketing dude, tech geek, heavy metal &amp; '80s ...</td>\n",
       "      <td>2009-09-21 15:27:30</td>\n",
       "      <td>834</td>\n",
       "      <td>666</td>\n",
       "      <td>178</td>\n",
       "      <td>False</td>\n",
       "      <td>2020-12-13 16:27:13</td>\n",
       "      <td>While the world has been on the wrong side of ...</td>\n",
       "      <td>NaN</td>\n",
       "      <td>Twitter Web App</td>\n",
       "      <td>1</td>\n",
       "      <td>1</td>\n",
       "      <td>False</td>\n",
       "    </tr>\n",
       "    <tr>\n",
       "      <th>2</th>\n",
       "      <td>1337858199140118533</td>\n",
       "      <td>eli🇱🇹🇪🇺👌</td>\n",
       "      <td>Your Bed</td>\n",
       "      <td>heil, hydra 🖐☺</td>\n",
       "      <td>2020-06-25 23:30:28</td>\n",
       "      <td>10</td>\n",
       "      <td>88</td>\n",
       "      <td>155</td>\n",
       "      <td>False</td>\n",
       "      <td>2020-12-12 20:33:45</td>\n",
       "      <td>#coronavirus #SputnikV #AstraZeneca #PfizerBio...</td>\n",
       "      <td>['coronavirus', 'SputnikV', 'AstraZeneca', 'Pf...</td>\n",
       "      <td>Twitter for Android</td>\n",
       "      <td>0</td>\n",
       "      <td>0</td>\n",
       "      <td>False</td>\n",
       "    </tr>\n",
       "    <tr>\n",
       "      <th>3</th>\n",
       "      <td>1337855739918835717</td>\n",
       "      <td>Charles Adler</td>\n",
       "      <td>Vancouver, BC - Canada</td>\n",
       "      <td>Hosting \"CharlesAdlerTonight\" Global News Radi...</td>\n",
       "      <td>2008-09-10 11:28:53</td>\n",
       "      <td>49165</td>\n",
       "      <td>3933</td>\n",
       "      <td>21853</td>\n",
       "      <td>True</td>\n",
       "      <td>2020-12-12 20:23:59</td>\n",
       "      <td>Facts are immutable, Senator, even when you're...</td>\n",
       "      <td>NaN</td>\n",
       "      <td>Twitter Web App</td>\n",
       "      <td>446</td>\n",
       "      <td>2129</td>\n",
       "      <td>False</td>\n",
       "    </tr>\n",
       "    <tr>\n",
       "      <th>4</th>\n",
       "      <td>1337854064604966912</td>\n",
       "      <td>Citizen News Channel</td>\n",
       "      <td>NaN</td>\n",
       "      <td>Citizen News Channel bringing you an alternati...</td>\n",
       "      <td>2020-04-23 17:58:42</td>\n",
       "      <td>152</td>\n",
       "      <td>580</td>\n",
       "      <td>1473</td>\n",
       "      <td>False</td>\n",
       "      <td>2020-12-12 20:17:19</td>\n",
       "      <td>Explain to me again why we need a vaccine @Bor...</td>\n",
       "      <td>['whereareallthesickpeople', 'PfizerBioNTech']</td>\n",
       "      <td>Twitter for iPhone</td>\n",
       "      <td>0</td>\n",
       "      <td>0</td>\n",
       "      <td>False</td>\n",
       "    </tr>\n",
       "  </tbody>\n",
       "</table>\n",
       "</div>"
      ],
      "text/plain": [
       "                    id             user_name              user_location   \n",
       "0  1340539111971516416            Rachel Roh  La Crescenta-Montrose, CA  \\\n",
       "1  1338158543359250433           Albert Fong          San Francisco, CA   \n",
       "2  1337858199140118533              eli🇱🇹🇪🇺👌                   Your Bed   \n",
       "3  1337855739918835717         Charles Adler     Vancouver, BC - Canada   \n",
       "4  1337854064604966912  Citizen News Channel                        NaN   \n",
       "\n",
       "                                    user_description         user_created   \n",
       "0  Aggregator of Asian American news; scanning di...  2009-04-08 17:52:46  \\\n",
       "1  Marketing dude, tech geek, heavy metal & '80s ...  2009-09-21 15:27:30   \n",
       "2                                     heil, hydra 🖐☺  2020-06-25 23:30:28   \n",
       "3  Hosting \"CharlesAdlerTonight\" Global News Radi...  2008-09-10 11:28:53   \n",
       "4  Citizen News Channel bringing you an alternati...  2020-04-23 17:58:42   \n",
       "\n",
       "   user_followers  user_friends  user_favourites  user_verified   \n",
       "0             405          1692             3247          False  \\\n",
       "1             834           666              178          False   \n",
       "2              10            88              155          False   \n",
       "3           49165          3933            21853           True   \n",
       "4             152           580             1473          False   \n",
       "\n",
       "                  date                                               text   \n",
       "0  2020-12-20 06:06:44  Same folks said daikon paste could treat a cyt...  \\\n",
       "1  2020-12-13 16:27:13  While the world has been on the wrong side of ...   \n",
       "2  2020-12-12 20:33:45  #coronavirus #SputnikV #AstraZeneca #PfizerBio...   \n",
       "3  2020-12-12 20:23:59  Facts are immutable, Senator, even when you're...   \n",
       "4  2020-12-12 20:17:19  Explain to me again why we need a vaccine @Bor...   \n",
       "\n",
       "                                            hashtags               source   \n",
       "0                                 ['PfizerBioNTech']  Twitter for Android  \\\n",
       "1                                                NaN      Twitter Web App   \n",
       "2  ['coronavirus', 'SputnikV', 'AstraZeneca', 'Pf...  Twitter for Android   \n",
       "3                                                NaN      Twitter Web App   \n",
       "4     ['whereareallthesickpeople', 'PfizerBioNTech']   Twitter for iPhone   \n",
       "\n",
       "   retweets  favorites  is_retweet  \n",
       "0         0          0       False  \n",
       "1         1          1       False  \n",
       "2         0          0       False  \n",
       "3       446       2129       False  \n",
       "4         0          0       False  "
      ]
     },
     "execution_count": 3,
     "metadata": {},
     "output_type": "execute_result"
    }
   ],
   "source": [
    "df.head()"
   ]
  },
  {
   "cell_type": "code",
   "execution_count": 4,
   "metadata": {},
   "outputs": [],
   "source": [
    "df_india = df['user_location'].tolist()\n"
   ]
  },
  {
   "cell_type": "code",
   "execution_count": 5,
   "metadata": {},
   "outputs": [
    {
     "data": {
      "text/plain": [
       "list"
      ]
     },
     "execution_count": 5,
     "metadata": {},
     "output_type": "execute_result"
    }
   ],
   "source": [
    "type(df_india)"
   ]
  },
  {
   "cell_type": "code",
   "execution_count": 6,
   "metadata": {},
   "outputs": [],
   "source": [
    "st = \"India\""
   ]
  },
  {
   "cell_type": "code",
   "execution_count": 7,
   "metadata": {},
   "outputs": [],
   "source": [
    "df_india_unique = set()\n",
    "for i in df_india:\n",
    "    if isinstance(i,str) and st in i:\n",
    "        df_india_unique.add(i)"
   ]
  },
  {
   "cell_type": "code",
   "execution_count": 8,
   "metadata": {},
   "outputs": [],
   "source": [
    "df_main = df[df[\"user_location\"].isin(df_india_unique)]"
   ]
  },
  {
   "cell_type": "code",
   "execution_count": 9,
   "metadata": {},
   "outputs": [
    {
     "data": {
      "text/html": [
       "<div>\n",
       "<style scoped>\n",
       "    .dataframe tbody tr th:only-of-type {\n",
       "        vertical-align: middle;\n",
       "    }\n",
       "\n",
       "    .dataframe tbody tr th {\n",
       "        vertical-align: top;\n",
       "    }\n",
       "\n",
       "    .dataframe thead th {\n",
       "        text-align: right;\n",
       "    }\n",
       "</style>\n",
       "<table border=\"1\" class=\"dataframe\">\n",
       "  <thead>\n",
       "    <tr style=\"text-align: right;\">\n",
       "      <th></th>\n",
       "      <th>id</th>\n",
       "      <th>user_name</th>\n",
       "      <th>user_location</th>\n",
       "      <th>user_description</th>\n",
       "      <th>user_created</th>\n",
       "      <th>user_followers</th>\n",
       "      <th>user_friends</th>\n",
       "      <th>user_favourites</th>\n",
       "      <th>user_verified</th>\n",
       "      <th>date</th>\n",
       "      <th>text</th>\n",
       "      <th>hashtags</th>\n",
       "      <th>source</th>\n",
       "      <th>retweets</th>\n",
       "      <th>favorites</th>\n",
       "      <th>is_retweet</th>\n",
       "    </tr>\n",
       "  </thead>\n",
       "  <tbody>\n",
       "    <tr>\n",
       "      <th>12</th>\n",
       "      <td>1337815730486702087</td>\n",
       "      <td>WION</td>\n",
       "      <td>India</td>\n",
       "      <td>#WION: World Is One | Welcome to India’s first...</td>\n",
       "      <td>2016-03-21 03:44:54</td>\n",
       "      <td>292510</td>\n",
       "      <td>91</td>\n",
       "      <td>7531</td>\n",
       "      <td>True</td>\n",
       "      <td>2020-12-12 17:45:00</td>\n",
       "      <td>The agency also released new information for h...</td>\n",
       "      <td>NaN</td>\n",
       "      <td>TweetDeck</td>\n",
       "      <td>0</td>\n",
       "      <td>18</td>\n",
       "      <td>False</td>\n",
       "    </tr>\n",
       "    <tr>\n",
       "      <th>23</th>\n",
       "      <td>1337773751841144833</td>\n",
       "      <td>BOOM Live</td>\n",
       "      <td>Mumbai, India</td>\n",
       "      <td>IFCN certified fact-driven journalism. India's...</td>\n",
       "      <td>2014-03-16 03:52:50</td>\n",
       "      <td>64185</td>\n",
       "      <td>1183</td>\n",
       "      <td>1794</td>\n",
       "      <td>True</td>\n",
       "      <td>2020-12-12 14:58:11</td>\n",
       "      <td>The US Food and Drug Administration (FDA) has ...</td>\n",
       "      <td>NaN</td>\n",
       "      <td>Twitter Web App</td>\n",
       "      <td>1</td>\n",
       "      <td>5</td>\n",
       "      <td>False</td>\n",
       "    </tr>\n",
       "    <tr>\n",
       "      <th>51</th>\n",
       "      <td>1338631874814619653</td>\n",
       "      <td>Dr. Taha Khan</td>\n",
       "      <td>India | USA</td>\n",
       "      <td>MD/MPH • PGY1 Peds/Child Neurology @theBCRP (@...</td>\n",
       "      <td>2013-12-30 08:51:23</td>\n",
       "      <td>855</td>\n",
       "      <td>3046</td>\n",
       "      <td>8236</td>\n",
       "      <td>False</td>\n",
       "      <td>2020-12-14 23:48:04</td>\n",
       "      <td>I’ve never been so excited to get a vaccine 💉💉...</td>\n",
       "      <td>['CovidVaccine', 'PfizerBioNTech', 'VaccinesSa...</td>\n",
       "      <td>Twitter for iPhone</td>\n",
       "      <td>1</td>\n",
       "      <td>10</td>\n",
       "      <td>False</td>\n",
       "    </tr>\n",
       "    <tr>\n",
       "      <th>75</th>\n",
       "      <td>1338574693087936513</td>\n",
       "      <td>Prof. Manish Thakur</td>\n",
       "      <td>India</td>\n",
       "      <td>#Proprietor English Academy #Blockchain #AI #I...</td>\n",
       "      <td>2012-06-11 13:50:05</td>\n",
       "      <td>3372</td>\n",
       "      <td>1713</td>\n",
       "      <td>119631</td>\n",
       "      <td>False</td>\n",
       "      <td>2020-12-14 20:00:51</td>\n",
       "      <td>#UgurSahin #ozlemtureci the #Muslim Scientists...</td>\n",
       "      <td>['UgurSahin', 'ozlemtureci', 'Muslim', 'Pfizer...</td>\n",
       "      <td>Twitter for Android</td>\n",
       "      <td>0</td>\n",
       "      <td>0</td>\n",
       "      <td>False</td>\n",
       "    </tr>\n",
       "    <tr>\n",
       "      <th>94</th>\n",
       "      <td>1338551175587786752</td>\n",
       "      <td>India Blooms</td>\n",
       "      <td>India</td>\n",
       "      <td>A news and reference portal on India and a 24X...</td>\n",
       "      <td>2009-10-10 11:19:34</td>\n",
       "      <td>16816</td>\n",
       "      <td>2448</td>\n",
       "      <td>20</td>\n",
       "      <td>False</td>\n",
       "      <td>2020-12-14 18:27:23</td>\n",
       "      <td>Toronto to receive Ontario's 1st doses of Pfiz...</td>\n",
       "      <td>['Ontario']</td>\n",
       "      <td>Twitter Web App</td>\n",
       "      <td>0</td>\n",
       "      <td>0</td>\n",
       "      <td>False</td>\n",
       "    </tr>\n",
       "  </tbody>\n",
       "</table>\n",
       "</div>"
      ],
      "text/plain": [
       "                     id            user_name  user_location   \n",
       "12  1337815730486702087                 WION          India  \\\n",
       "23  1337773751841144833            BOOM Live  Mumbai, India   \n",
       "51  1338631874814619653        Dr. Taha Khan    India | USA   \n",
       "75  1338574693087936513  Prof. Manish Thakur          India   \n",
       "94  1338551175587786752         India Blooms          India   \n",
       "\n",
       "                                     user_description         user_created   \n",
       "12  #WION: World Is One | Welcome to India’s first...  2016-03-21 03:44:54  \\\n",
       "23  IFCN certified fact-driven journalism. India's...  2014-03-16 03:52:50   \n",
       "51  MD/MPH • PGY1 Peds/Child Neurology @theBCRP (@...  2013-12-30 08:51:23   \n",
       "75  #Proprietor English Academy #Blockchain #AI #I...  2012-06-11 13:50:05   \n",
       "94  A news and reference portal on India and a 24X...  2009-10-10 11:19:34   \n",
       "\n",
       "    user_followers  user_friends  user_favourites  user_verified   \n",
       "12          292510            91             7531           True  \\\n",
       "23           64185          1183             1794           True   \n",
       "51             855          3046             8236          False   \n",
       "75            3372          1713           119631          False   \n",
       "94           16816          2448               20          False   \n",
       "\n",
       "                   date                                               text   \n",
       "12  2020-12-12 17:45:00  The agency also released new information for h...  \\\n",
       "23  2020-12-12 14:58:11  The US Food and Drug Administration (FDA) has ...   \n",
       "51  2020-12-14 23:48:04  I’ve never been so excited to get a vaccine 💉💉...   \n",
       "75  2020-12-14 20:00:51  #UgurSahin #ozlemtureci the #Muslim Scientists...   \n",
       "94  2020-12-14 18:27:23  Toronto to receive Ontario's 1st doses of Pfiz...   \n",
       "\n",
       "                                             hashtags               source   \n",
       "12                                                NaN            TweetDeck  \\\n",
       "23                                                NaN      Twitter Web App   \n",
       "51  ['CovidVaccine', 'PfizerBioNTech', 'VaccinesSa...   Twitter for iPhone   \n",
       "75  ['UgurSahin', 'ozlemtureci', 'Muslim', 'Pfizer...  Twitter for Android   \n",
       "94                                        ['Ontario']      Twitter Web App   \n",
       "\n",
       "    retweets  favorites  is_retweet  \n",
       "12         0         18       False  \n",
       "23         1          5       False  \n",
       "51         1         10       False  \n",
       "75         0          0       False  \n",
       "94         0          0       False  "
      ]
     },
     "execution_count": 9,
     "metadata": {},
     "output_type": "execute_result"
    }
   ],
   "source": [
    "df_main.head()"
   ]
  },
  {
   "cell_type": "code",
   "execution_count": 10,
   "metadata": {},
   "outputs": [
    {
     "data": {
      "text/plain": [
       "(44338, 16)"
      ]
     },
     "execution_count": 10,
     "metadata": {},
     "output_type": "execute_result"
    }
   ],
   "source": [
    "df_main.shape"
   ]
  },
  {
   "cell_type": "code",
   "execution_count": 11,
   "metadata": {},
   "outputs": [],
   "source": [
    "df_main = df_main[df_main.source != \"VaxBlr\"] "
   ]
  },
  {
   "cell_type": "code",
   "execution_count": 12,
   "metadata": {},
   "outputs": [],
   "source": [
    "df_main = df_main.dropna()"
   ]
  },
  {
   "cell_type": "code",
   "execution_count": 14,
   "metadata": {},
   "outputs": [],
   "source": [
    "df_main=df_main[['date','text']]"
   ]
  },
  {
   "cell_type": "code",
   "execution_count": 15,
   "metadata": {},
   "outputs": [],
   "source": [
    "sentiment_data = df_main.query('date >=\"2021-01-16 00:00:00\" and date <\"2022-01-01 00:00:00\"')"
   ]
  },
  {
   "cell_type": "code",
   "execution_count": 19,
   "metadata": {},
   "outputs": [
    {
     "data": {
      "text/html": [
       "<div>\n",
       "<style scoped>\n",
       "    .dataframe tbody tr th:only-of-type {\n",
       "        vertical-align: middle;\n",
       "    }\n",
       "\n",
       "    .dataframe tbody tr th {\n",
       "        vertical-align: top;\n",
       "    }\n",
       "\n",
       "    .dataframe thead th {\n",
       "        text-align: right;\n",
       "    }\n",
       "</style>\n",
       "<table border=\"1\" class=\"dataframe\">\n",
       "  <thead>\n",
       "    <tr style=\"text-align: right;\">\n",
       "      <th></th>\n",
       "      <th>date</th>\n",
       "      <th>text</th>\n",
       "    </tr>\n",
       "  </thead>\n",
       "  <tbody>\n",
       "    <tr>\n",
       "      <th>228160</th>\n",
       "      <td>2021-11-16 06:09:44</td>\n",
       "      <td>One of the weird things about #SputnikV's Indi...</td>\n",
       "    </tr>\n",
       "    <tr>\n",
       "      <th>228097</th>\n",
       "      <td>2021-11-17 10:13:16</td>\n",
       "      <td>#SputnikV vaccine has demonstrated 96.3% effic...</td>\n",
       "    </tr>\n",
       "    <tr>\n",
       "      <th>227931</th>\n",
       "      <td>2021-11-21 09:24:52</td>\n",
       "      <td>Anyone facing sudden changes in body after few...</td>\n",
       "    </tr>\n",
       "    <tr>\n",
       "      <th>227879</th>\n",
       "      <td>2021-11-22 11:24:55</td>\n",
       "      <td>As Covishield and Covaxin push forward India's...</td>\n",
       "    </tr>\n",
       "    <tr>\n",
       "      <th>227827</th>\n",
       "      <td>2021-11-23 11:23:54</td>\n",
       "      <td>News For #SputnikV vaccine takers:\\n\\nRussian ...</td>\n",
       "    </tr>\n",
       "    <tr>\n",
       "      <th>...</th>\n",
       "      <td>...</td>\n",
       "      <td>...</td>\n",
       "    </tr>\n",
       "    <tr>\n",
       "      <th>3712</th>\n",
       "      <td>2021-01-17 10:52:42</td>\n",
       "      <td>29 Dead in Norway after Getting Vaccinated.\\n\\...</td>\n",
       "    </tr>\n",
       "    <tr>\n",
       "      <th>3586</th>\n",
       "      <td>2021-01-16 03:02:45</td>\n",
       "      <td>A global #CoronavirusVaccine rollout suffered ...</td>\n",
       "    </tr>\n",
       "    <tr>\n",
       "      <th>3577</th>\n",
       "      <td>2021-01-16 05:46:34</td>\n",
       "      <td>#horror #BreakingNews -\\n\\n23 people die in #N...</td>\n",
       "    </tr>\n",
       "    <tr>\n",
       "      <th>3576</th>\n",
       "      <td>2021-01-16 05:47:45</td>\n",
       "      <td>#Norway has launched a detailed investigation ...</td>\n",
       "    </tr>\n",
       "    <tr>\n",
       "      <th>2947</th>\n",
       "      <td>2021-01-17 06:11:07</td>\n",
       "      <td>If we don't witness the same thing in India th...</td>\n",
       "    </tr>\n",
       "  </tbody>\n",
       "</table>\n",
       "<p>19182 rows × 2 columns</p>\n",
       "</div>"
      ],
      "text/plain": [
       "                       date                                               text\n",
       "228160  2021-11-16 06:09:44  One of the weird things about #SputnikV's Indi...\n",
       "228097  2021-11-17 10:13:16  #SputnikV vaccine has demonstrated 96.3% effic...\n",
       "227931  2021-11-21 09:24:52  Anyone facing sudden changes in body after few...\n",
       "227879  2021-11-22 11:24:55  As Covishield and Covaxin push forward India's...\n",
       "227827  2021-11-23 11:23:54  News For #SputnikV vaccine takers:\\n\\nRussian ...\n",
       "...                     ...                                                ...\n",
       "3712    2021-01-17 10:52:42  29 Dead in Norway after Getting Vaccinated.\\n\\...\n",
       "3586    2021-01-16 03:02:45  A global #CoronavirusVaccine rollout suffered ...\n",
       "3577    2021-01-16 05:46:34  #horror #BreakingNews -\\n\\n23 people die in #N...\n",
       "3576    2021-01-16 05:47:45  #Norway has launched a detailed investigation ...\n",
       "2947    2021-01-17 06:11:07  If we don't witness the same thing in India th...\n",
       "\n",
       "[19182 rows x 2 columns]"
      ]
     },
     "execution_count": 19,
     "metadata": {},
     "output_type": "execute_result"
    }
   ],
   "source": [
    "sentiment_data[::-1]"
   ]
  },
  {
   "attachments": {},
   "cell_type": "markdown",
   "metadata": {},
   "source": [
    "Sentiment analysis"
   ]
  },
  {
   "cell_type": "code",
   "execution_count": 20,
   "metadata": {},
   "outputs": [],
   "source": [
    "from vaderSentiment.vaderSentiment import SentimentIntensityAnalyzer \n",
    "import pandas as pd\n",
    "import string\n",
    "import seaborn as sns\n",
    "import matplotlib.pyplot as plt\n",
    "import os\n",
    "import string\n",
    "import re\n"
   ]
  },
  {
   "cell_type": "code",
   "execution_count": 21,
   "metadata": {},
   "outputs": [],
   "source": [
    "def clean_text(text):\n",
    "    #Remove hyper links\n",
    "    text = re.sub(r'https?:\\/\\/\\S+', ' ', text)\n",
    "\n",
    "    #Remove @mentions\n",
    "    text = re.sub(r'@[A-Za-z0-9]+', ' ', text)\n",
    "    \n",
    "    #Removing hashtags\n",
    "    text = re.sub(r'#[A-Za-z0-9]+', ' ', text)\n",
    "    \n",
    "    #Remove anything that isn't a letter, number, or one of the punctuation marks listed\n",
    "    text = re.sub(r\"[^A-Za-z0-9#'?!,.]+\", ' ', text)   \n",
    "    \n",
    "    #The following regular expression are for removing apostrophes and expanding words\n",
    "    text = re.sub(r\"\\'s\", \" is\", text)\n",
    "    text = re.sub(r\"n\\'t\", \" not\", text)\n",
    "    text = re.sub(r\"\\'m\", \" am\", text)\n",
    "    text = re.sub(r\"\\'d\", \" would\", text)\n",
    "    text = re.sub(r\"won\\'t\", \"will not\", text)\n",
    "    text = re.sub(r\"can\\'t\", \"can not\", text)\n",
    "    text = re.sub(r\"\\'re\", \" are\", text)\n",
    "    text = re.sub(r\"\\'s\", \" is\", text)\n",
    "    text = re.sub(r\"\\'t\", \" not\", text)\n",
    "    text = re.sub(r\"\\'ll\", \" will\", text)\n",
    "    text = re.sub(r\"\\'ve\", \" have\", text)\n",
    "    \n",
    "    #Removing emojis\n",
    "    emoji_pattern = re.compile(\"[\"u\"\\U0001F600-\\U0001F64F\"  # emoticons\n",
    "                                  u\"\\U0001F300-\\U0001F5FF\"  # symbols & pictographs\n",
    "                                  u\"\\U0001F680-\\U0001F6FF\"  # transport & map symbols\n",
    "                                u\"\\U0001F1E0-\\U0001F1FF\"  # flags (iOS)\n",
    "                                \"]+\", flags=re.UNICODE)\n",
    "    emoji_pattern.sub(r'', text)\n",
    "    return text\n"
   ]
  },
  {
   "cell_type": "code",
   "execution_count": 22,
   "metadata": {},
   "outputs": [],
   "source": [
    "main_data= sentiment_data[\"text\"][0:].apply(clean_text)"
   ]
  },
  {
   "cell_type": "code",
   "execution_count": 23,
   "metadata": {},
   "outputs": [
    {
     "data": {
      "text/plain": [
       "(19182,)"
      ]
     },
     "execution_count": 23,
     "metadata": {},
     "output_type": "execute_result"
    }
   ],
   "source": [
    "main_data.shape"
   ]
  },
  {
   "cell_type": "code",
   "execution_count": 24,
   "metadata": {},
   "outputs": [],
   "source": [
    "main_data = main_data.reset_index()"
   ]
  },
  {
   "cell_type": "code",
   "execution_count": 25,
   "metadata": {},
   "outputs": [
    {
     "data": {
      "text/html": [
       "<div>\n",
       "<style scoped>\n",
       "    .dataframe tbody tr th:only-of-type {\n",
       "        vertical-align: middle;\n",
       "    }\n",
       "\n",
       "    .dataframe tbody tr th {\n",
       "        vertical-align: top;\n",
       "    }\n",
       "\n",
       "    .dataframe thead th {\n",
       "        text-align: right;\n",
       "    }\n",
       "</style>\n",
       "<table border=\"1\" class=\"dataframe\">\n",
       "  <thead>\n",
       "    <tr style=\"text-align: right;\">\n",
       "      <th></th>\n",
       "      <th>index</th>\n",
       "      <th>text</th>\n",
       "    </tr>\n",
       "  </thead>\n",
       "  <tbody>\n",
       "    <tr>\n",
       "      <th>0</th>\n",
       "      <td>2947</td>\n",
       "      <td>If we do not witness the same thing in India t...</td>\n",
       "    </tr>\n",
       "    <tr>\n",
       "      <th>1</th>\n",
       "      <td>3576</td>\n",
       "      <td>has launched a detailed investigation after 2...</td>\n",
       "    </tr>\n",
       "    <tr>\n",
       "      <th>2</th>\n",
       "      <td>3577</td>\n",
       "      <td>23 people die in after receiving officials Do...</td>\n",
       "    </tr>\n",
       "    <tr>\n",
       "      <th>3</th>\n",
       "      <td>3586</td>\n",
       "      <td>A global rollout suffered a major blow Friday ...</td>\n",
       "    </tr>\n",
       "    <tr>\n",
       "      <th>4</th>\n",
       "      <td>3712</td>\n",
       "      <td>29 Dead in Norway after Getting Vaccinated. No...</td>\n",
       "    </tr>\n",
       "  </tbody>\n",
       "</table>\n",
       "</div>"
      ],
      "text/plain": [
       "   index                                               text\n",
       "0   2947  If we do not witness the same thing in India t...\n",
       "1   3576   has launched a detailed investigation after 2...\n",
       "2   3577   23 people die in after receiving officials Do...\n",
       "3   3586  A global rollout suffered a major blow Friday ...\n",
       "4   3712  29 Dead in Norway after Getting Vaccinated. No..."
      ]
     },
     "execution_count": 25,
     "metadata": {},
     "output_type": "execute_result"
    }
   ],
   "source": [
    "main_data.head()"
   ]
  },
  {
   "cell_type": "code",
   "execution_count": 26,
   "metadata": {},
   "outputs": [],
   "source": [
    "main_date = main_data.drop(['index'],axis=1)"
   ]
  },
  {
   "cell_type": "code",
   "execution_count": 27,
   "metadata": {},
   "outputs": [],
   "source": [
    "date_df=sentiment_data[\"date\"][0:].tolist()"
   ]
  },
  {
   "cell_type": "code",
   "execution_count": 28,
   "metadata": {},
   "outputs": [],
   "source": [
    "main_data[\"date\"]=date_df"
   ]
  },
  {
   "cell_type": "code",
   "execution_count": 29,
   "metadata": {},
   "outputs": [
    {
     "data": {
      "text/html": [
       "<div>\n",
       "<style scoped>\n",
       "    .dataframe tbody tr th:only-of-type {\n",
       "        vertical-align: middle;\n",
       "    }\n",
       "\n",
       "    .dataframe tbody tr th {\n",
       "        vertical-align: top;\n",
       "    }\n",
       "\n",
       "    .dataframe thead th {\n",
       "        text-align: right;\n",
       "    }\n",
       "</style>\n",
       "<table border=\"1\" class=\"dataframe\">\n",
       "  <thead>\n",
       "    <tr style=\"text-align: right;\">\n",
       "      <th></th>\n",
       "      <th>index</th>\n",
       "      <th>text</th>\n",
       "      <th>date</th>\n",
       "    </tr>\n",
       "  </thead>\n",
       "  <tbody>\n",
       "    <tr>\n",
       "      <th>0</th>\n",
       "      <td>2947</td>\n",
       "      <td>If we do not witness the same thing in India t...</td>\n",
       "      <td>2021-01-17 06:11:07</td>\n",
       "    </tr>\n",
       "    <tr>\n",
       "      <th>1</th>\n",
       "      <td>3576</td>\n",
       "      <td>has launched a detailed investigation after 2...</td>\n",
       "      <td>2021-01-16 05:47:45</td>\n",
       "    </tr>\n",
       "    <tr>\n",
       "      <th>2</th>\n",
       "      <td>3577</td>\n",
       "      <td>23 people die in after receiving officials Do...</td>\n",
       "      <td>2021-01-16 05:46:34</td>\n",
       "    </tr>\n",
       "    <tr>\n",
       "      <th>3</th>\n",
       "      <td>3586</td>\n",
       "      <td>A global rollout suffered a major blow Friday ...</td>\n",
       "      <td>2021-01-16 03:02:45</td>\n",
       "    </tr>\n",
       "    <tr>\n",
       "      <th>4</th>\n",
       "      <td>3712</td>\n",
       "      <td>29 Dead in Norway after Getting Vaccinated. No...</td>\n",
       "      <td>2021-01-17 10:52:42</td>\n",
       "    </tr>\n",
       "  </tbody>\n",
       "</table>\n",
       "</div>"
      ],
      "text/plain": [
       "   index                                               text   \n",
       "0   2947  If we do not witness the same thing in India t...  \\\n",
       "1   3576   has launched a detailed investigation after 2...   \n",
       "2   3577   23 people die in after receiving officials Do...   \n",
       "3   3586  A global rollout suffered a major blow Friday ...   \n",
       "4   3712  29 Dead in Norway after Getting Vaccinated. No...   \n",
       "\n",
       "                  date  \n",
       "0  2021-01-17 06:11:07  \n",
       "1  2021-01-16 05:47:45  \n",
       "2  2021-01-16 05:46:34  \n",
       "3  2021-01-16 03:02:45  \n",
       "4  2021-01-17 10:52:42  "
      ]
     },
     "execution_count": 29,
     "metadata": {},
     "output_type": "execute_result"
    }
   ],
   "source": [
    "main_data.head()"
   ]
  },
  {
   "cell_type": "code",
   "execution_count": 30,
   "metadata": {},
   "outputs": [],
   "source": [
    "main_data = main_data.drop([\"index\"],axis=1)"
   ]
  },
  {
   "cell_type": "code",
   "execution_count": 31,
   "metadata": {},
   "outputs": [],
   "source": [
    "main_data = main_data.dropna()"
   ]
  },
  {
   "cell_type": "code",
   "execution_count": 32,
   "metadata": {},
   "outputs": [
    {
     "data": {
      "text/html": [
       "<div>\n",
       "<style scoped>\n",
       "    .dataframe tbody tr th:only-of-type {\n",
       "        vertical-align: middle;\n",
       "    }\n",
       "\n",
       "    .dataframe tbody tr th {\n",
       "        vertical-align: top;\n",
       "    }\n",
       "\n",
       "    .dataframe thead th {\n",
       "        text-align: right;\n",
       "    }\n",
       "</style>\n",
       "<table border=\"1\" class=\"dataframe\">\n",
       "  <thead>\n",
       "    <tr style=\"text-align: right;\">\n",
       "      <th></th>\n",
       "      <th>text</th>\n",
       "      <th>date</th>\n",
       "    </tr>\n",
       "  </thead>\n",
       "  <tbody>\n",
       "    <tr>\n",
       "      <th>19181</th>\n",
       "      <td>One of the weird things about  is India saga i...</td>\n",
       "      <td>2021-11-16 06:09:44</td>\n",
       "    </tr>\n",
       "    <tr>\n",
       "      <th>19180</th>\n",
       "      <td>vaccine has demonstrated 96.3 efficacy agains...</td>\n",
       "      <td>2021-11-17 10:13:16</td>\n",
       "    </tr>\n",
       "    <tr>\n",
       "      <th>19179</th>\n",
       "      <td>Anyone facing sudden changes in body after few...</td>\n",
       "      <td>2021-11-21 09:24:52</td>\n",
       "    </tr>\n",
       "    <tr>\n",
       "      <th>19178</th>\n",
       "      <td>As Covishield and Covaxin push forward India i...</td>\n",
       "      <td>2021-11-22 11:24:55</td>\n",
       "    </tr>\n",
       "    <tr>\n",
       "      <th>19177</th>\n",
       "      <td>News For vaccine takers Russian President Puti...</td>\n",
       "      <td>2021-11-23 11:23:54</td>\n",
       "    </tr>\n",
       "    <tr>\n",
       "      <th>...</th>\n",
       "      <td>...</td>\n",
       "      <td>...</td>\n",
       "    </tr>\n",
       "    <tr>\n",
       "      <th>4</th>\n",
       "      <td>29 Dead in Norway after Getting Vaccinated. No...</td>\n",
       "      <td>2021-01-17 10:52:42</td>\n",
       "    </tr>\n",
       "    <tr>\n",
       "      <th>3</th>\n",
       "      <td>A global rollout suffered a major blow Friday ...</td>\n",
       "      <td>2021-01-16 03:02:45</td>\n",
       "    </tr>\n",
       "    <tr>\n",
       "      <th>2</th>\n",
       "      <td>23 people die in after receiving officials Do...</td>\n",
       "      <td>2021-01-16 05:46:34</td>\n",
       "    </tr>\n",
       "    <tr>\n",
       "      <th>1</th>\n",
       "      <td>has launched a detailed investigation after 2...</td>\n",
       "      <td>2021-01-16 05:47:45</td>\n",
       "    </tr>\n",
       "    <tr>\n",
       "      <th>0</th>\n",
       "      <td>If we do not witness the same thing in India t...</td>\n",
       "      <td>2021-01-17 06:11:07</td>\n",
       "    </tr>\n",
       "  </tbody>\n",
       "</table>\n",
       "<p>19182 rows × 2 columns</p>\n",
       "</div>"
      ],
      "text/plain": [
       "                                                    text                 date\n",
       "19181  One of the weird things about  is India saga i...  2021-11-16 06:09:44\n",
       "19180   vaccine has demonstrated 96.3 efficacy agains...  2021-11-17 10:13:16\n",
       "19179  Anyone facing sudden changes in body after few...  2021-11-21 09:24:52\n",
       "19178  As Covishield and Covaxin push forward India i...  2021-11-22 11:24:55\n",
       "19177  News For vaccine takers Russian President Puti...  2021-11-23 11:23:54\n",
       "...                                                  ...                  ...\n",
       "4      29 Dead in Norway after Getting Vaccinated. No...  2021-01-17 10:52:42\n",
       "3      A global rollout suffered a major blow Friday ...  2021-01-16 03:02:45\n",
       "2       23 people die in after receiving officials Do...  2021-01-16 05:46:34\n",
       "1       has launched a detailed investigation after 2...  2021-01-16 05:47:45\n",
       "0      If we do not witness the same thing in India t...  2021-01-17 06:11:07\n",
       "\n",
       "[19182 rows x 2 columns]"
      ]
     },
     "execution_count": 32,
     "metadata": {},
     "output_type": "execute_result"
    }
   ],
   "source": [
    "main_data[::-1]"
   ]
  },
  {
   "cell_type": "code",
   "execution_count": 33,
   "metadata": {},
   "outputs": [],
   "source": [
    "#LDA Model and Sentiment Analysis\n",
    "sid_obj = SentimentIntensityAnalyzer() \n",
    "pos=[]\n",
    "nev=[]\n",
    "def preprocess_data(df):\n",
    "    df[\"text\"] = df[\"text\"].apply(lambda x:x.translate(str.maketrans('','',string.punctuation)))\n",
    "    df[\"date\"] = pd.to_datetime(df[\"date\"])\n",
    "    df[\"month\"] = df['date'].dt.month\n",
    "    return df\n",
    "\n",
    "def sentiment(df):\n",
    "    sentiment_scores = [] \n",
    "    for text in df['text']:\n",
    "        scores = sid_obj.polarity_scores(text)\n",
    "        sentiment_scores.append(scores['compound'])\n",
    "    df['sentiment_score'] = sentiment_scores\n",
    "df = preprocess_data(main_data)\n",
    "sentiment(df)"
   ]
  },
  {
   "cell_type": "code",
   "execution_count": 56,
   "metadata": {},
   "outputs": [
    {
     "data": {
      "text/html": [
       "<div>\n",
       "<style scoped>\n",
       "    .dataframe tbody tr th:only-of-type {\n",
       "        vertical-align: middle;\n",
       "    }\n",
       "\n",
       "    .dataframe tbody tr th {\n",
       "        vertical-align: top;\n",
       "    }\n",
       "\n",
       "    .dataframe thead th {\n",
       "        text-align: right;\n",
       "    }\n",
       "</style>\n",
       "<table border=\"1\" class=\"dataframe\">\n",
       "  <thead>\n",
       "    <tr style=\"text-align: right;\">\n",
       "      <th></th>\n",
       "      <th>text</th>\n",
       "      <th>date</th>\n",
       "      <th>month</th>\n",
       "      <th>sentiment_score</th>\n",
       "    </tr>\n",
       "  </thead>\n",
       "  <tbody>\n",
       "    <tr>\n",
       "      <th>0</th>\n",
       "      <td>If we do not witness the same thing in India t...</td>\n",
       "      <td>2021-01-17 06:11:07</td>\n",
       "      <td>1</td>\n",
       "      <td>0.4404</td>\n",
       "    </tr>\n",
       "    <tr>\n",
       "      <th>1</th>\n",
       "      <td>has launched a detailed investigation after 2...</td>\n",
       "      <td>2021-01-16 05:47:45</td>\n",
       "      <td>1</td>\n",
       "      <td>-0.4767</td>\n",
       "    </tr>\n",
       "    <tr>\n",
       "      <th>2</th>\n",
       "      <td>23 people die in after receiving officials Do...</td>\n",
       "      <td>2021-01-16 05:46:34</td>\n",
       "      <td>1</td>\n",
       "      <td>-0.5994</td>\n",
       "    </tr>\n",
       "    <tr>\n",
       "      <th>3</th>\n",
       "      <td>A global rollout suffered a major blow Friday ...</td>\n",
       "      <td>2021-01-16 03:02:45</td>\n",
       "      <td>1</td>\n",
       "      <td>-0.6705</td>\n",
       "    </tr>\n",
       "    <tr>\n",
       "      <th>4</th>\n",
       "      <td>29 Dead in Norway after Getting Vaccinated Not...</td>\n",
       "      <td>2021-01-17 10:52:42</td>\n",
       "      <td>1</td>\n",
       "      <td>-0.6486</td>\n",
       "    </tr>\n",
       "  </tbody>\n",
       "</table>\n",
       "</div>"
      ],
      "text/plain": [
       "                                                text                date   \n",
       "0  If we do not witness the same thing in India t... 2021-01-17 06:11:07  \\\n",
       "1   has launched a detailed investigation after 2... 2021-01-16 05:47:45   \n",
       "2   23 people die in after receiving officials Do... 2021-01-16 05:46:34   \n",
       "3  A global rollout suffered a major blow Friday ... 2021-01-16 03:02:45   \n",
       "4  29 Dead in Norway after Getting Vaccinated Not... 2021-01-17 10:52:42   \n",
       "\n",
       "   month  sentiment_score  \n",
       "0      1           0.4404  \n",
       "1      1          -0.4767  \n",
       "2      1          -0.5994  \n",
       "3      1          -0.6705  \n",
       "4      1          -0.6486  "
      ]
     },
     "execution_count": 56,
     "metadata": {},
     "output_type": "execute_result"
    }
   ],
   "source": [
    "df.head()"
   ]
  },
  {
   "cell_type": "code",
   "execution_count": 52,
   "metadata": {},
   "outputs": [],
   "source": [
    "monthly_sentiment = df.groupby(df['date'].dt.month)['sentiment_score'].mean()"
   ]
  },
  {
   "cell_type": "code",
   "execution_count": 53,
   "metadata": {},
   "outputs": [
    {
     "data": {
      "text/plain": [
       "date\n",
       "1    -0.183403\n",
       "2     0.072247\n",
       "3     0.126935\n",
       "4     0.117308\n",
       "5     0.084511\n",
       "6     0.097600\n",
       "7     0.090579\n",
       "8     0.141484\n",
       "9     0.086110\n",
       "10    0.180353\n",
       "11    0.249281\n",
       "Name: sentiment_score, dtype: float64"
      ]
     },
     "execution_count": 53,
     "metadata": {},
     "output_type": "execute_result"
    }
   ],
   "source": [
    "monthly_sentiment"
   ]
  },
  {
   "cell_type": "code",
   "execution_count": 36,
   "metadata": {},
   "outputs": [
    {
     "data": {
      "image/png": "[encoded data removed]",
      "text/plain": [
       "<Figure size 432x288 with 1 Axes>"
      ]
     },
     "metadata": {
      "needs_background": "light"
     },
     "output_type": "display_data"
    }
   ],
   "source": [
    "# Line plot\n",
    "fig, ax = plt.subplots()\n",
    "ax.plot(monthly_sentiment.index, monthly_sentiment.values)\n",
    "ax.set_xlabel('Month')\n",
    "ax.set_ylabel('Sentiment Score')\n",
    "ax.set_xticks(range(1,12))\n",
    "ax.set_xticklabels(['Jan', 'Feb', 'Mar', 'Apr', 'May', 'Jun', 'Jul', 'Aug', 'Sep', 'Oct', 'Nov'])\n",
    "plt.show()"
   ]
  },
  {
   "cell_type": "code",
   "execution_count": 37,
   "metadata": {},
   "outputs": [
    {
     "data": {
      "text/plain": [
       "<AxesSubplot:xlabel='month', ylabel='sentiment_score'>"
      ]
     },
     "execution_count": 37,
     "metadata": {},
     "output_type": "execute_result"
    },
    {
     "data": {
      "image/png": "[encoded data removed]",
      "text/plain": [
       "<Figure size 432x288 with 1 Axes>"
      ]
     },
     "metadata": {
      "needs_background": "light"
     },
     "output_type": "display_data"
    }
   ],
   "source": [
    "#Boxplot\n",
    "sns.boxplot(x='month', y='sentiment_score', data=df)"
   ]
  },
  {
   "cell_type": "code",
   "execution_count": 38,
   "metadata": {},
   "outputs": [],
   "source": [
    "data_counts = df.groupby('month').size().reset_index(name='counts')"
   ]
  },
  {
   "cell_type": "code",
   "execution_count": 43,
   "metadata": {},
   "outputs": [
    {
     "data": {
      "text/html": [
       "<div>\n",
       "<style scoped>\n",
       "    .dataframe tbody tr th:only-of-type {\n",
       "        vertical-align: middle;\n",
       "    }\n",
       "\n",
       "    .dataframe tbody tr th {\n",
       "        vertical-align: top;\n",
       "    }\n",
       "\n",
       "    .dataframe thead th {\n",
       "        text-align: right;\n",
       "    }\n",
       "</style>\n",
       "<table border=\"1\" class=\"dataframe\">\n",
       "  <thead>\n",
       "    <tr style=\"text-align: right;\">\n",
       "      <th></th>\n",
       "      <th>month</th>\n",
       "      <th>counts</th>\n",
       "    </tr>\n",
       "  </thead>\n",
       "  <tbody>\n",
       "    <tr>\n",
       "      <th>0</th>\n",
       "      <td>1</td>\n",
       "      <td>36</td>\n",
       "    </tr>\n",
       "    <tr>\n",
       "      <th>1</th>\n",
       "      <td>2</td>\n",
       "      <td>367</td>\n",
       "    </tr>\n",
       "    <tr>\n",
       "      <th>2</th>\n",
       "      <td>3</td>\n",
       "      <td>2130</td>\n",
       "    </tr>\n",
       "    <tr>\n",
       "      <th>3</th>\n",
       "      <td>4</td>\n",
       "      <td>2780</td>\n",
       "    </tr>\n",
       "    <tr>\n",
       "      <th>4</th>\n",
       "      <td>5</td>\n",
       "      <td>3115</td>\n",
       "    </tr>\n",
       "    <tr>\n",
       "      <th>5</th>\n",
       "      <td>6</td>\n",
       "      <td>4141</td>\n",
       "    </tr>\n",
       "    <tr>\n",
       "      <th>6</th>\n",
       "      <td>7</td>\n",
       "      <td>1131</td>\n",
       "    </tr>\n",
       "    <tr>\n",
       "      <th>7</th>\n",
       "      <td>8</td>\n",
       "      <td>1536</td>\n",
       "    </tr>\n",
       "    <tr>\n",
       "      <th>8</th>\n",
       "      <td>9</td>\n",
       "      <td>901</td>\n",
       "    </tr>\n",
       "    <tr>\n",
       "      <th>9</th>\n",
       "      <td>10</td>\n",
       "      <td>1515</td>\n",
       "    </tr>\n",
       "    <tr>\n",
       "      <th>10</th>\n",
       "      <td>11</td>\n",
       "      <td>1530</td>\n",
       "    </tr>\n",
       "  </tbody>\n",
       "</table>\n",
       "</div>"
      ],
      "text/plain": [
       "    month  counts\n",
       "0       1      36\n",
       "1       2     367\n",
       "2       3    2130\n",
       "3       4    2780\n",
       "4       5    3115\n",
       "5       6    4141\n",
       "6       7    1131\n",
       "7       8    1536\n",
       "8       9     901\n",
       "9      10    1515\n",
       "10     11    1530"
      ]
     },
     "execution_count": 43,
     "metadata": {},
     "output_type": "execute_result"
    }
   ],
   "source": [
    "data_counts"
   ]
  },
  {
   "cell_type": "code",
   "execution_count": 42,
   "metadata": {},
   "outputs": [
    {
     "data": {
      "image/png": "[encoded data removed]",
      "text/plain": [
       "<Figure size 432x288 with 1 Axes>"
      ]
     },
     "metadata": {},
     "output_type": "display_data"
    }
   ],
   "source": [
    "plt.pie(data_counts['counts'], labels=['Jan-21', 'Feb-21', 'Mar-21', 'Apr-21', 'May-21', 'Jun-21', 'Jul-21', 'Aug-21', 'Sept-21', 'Oct-21', 'Nov-21'])\n",
    "plt.title('Number of Data Points by Month')\n",
    "plt.show()"
   ]
  },
  {
   "cell_type": "code",
   "execution_count": null,
   "metadata": {},
   "outputs": [],
   "source": []
  }
 ],
 "metadata": {
  "kernelspec": {
   "display_name": "Python 3",
   "language": "python",
   "name": "python3"
  },
  "language_info": {
   "codemirror_mode": {
    "name": "ipython",
    "version": 3
   },
   "file_extension": ".py",
   "mimetype": "text/x-python",
   "name": "python",
   "nbconvert_exporter": "python",
   "pygments_lexer": "ipython3",
   "version": "3.9.10"
  },
  "orig_nbformat": 4
 },
 "nbformat": 4,
 "nbformat_minor": 2
}
